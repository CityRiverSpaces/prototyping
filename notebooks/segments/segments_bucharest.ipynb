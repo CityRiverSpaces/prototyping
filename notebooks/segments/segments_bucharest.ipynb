{
 "cells": [
  {
   "cell_type": "code",
   "execution_count": null,
   "metadata": {},
   "outputs": [],
   "source": [
    "import geopandas\n",
    "import momepy\n",
    "import momepy.coins\n",
    "import numpy as np\n",
    "import sklearn.cluster\n",
    "import shapely"
   ]
  },
  {
   "cell_type": "markdown",
   "metadata": {},
   "source": [
    "# Corridor Segments"
   ]
  },
  {
   "cell_type": "markdown",
   "metadata": {},
   "source": [
    "Load the street network (edges only), the waterway, and the corridor: "
   ]
  },
  {
   "cell_type": "code",
   "execution_count": null,
   "metadata": {},
   "outputs": [],
   "source": [
    "city_name = \"Bucharest\"\n",
    "river_name = \"Dâmbovița\""
   ]
  },
  {
   "cell_type": "code",
   "execution_count": null,
   "metadata": {},
   "outputs": [],
   "source": [
    "edges = geopandas.read_file(f\"../../data/generated/street_network_edges_{city_name}.gpkg\")\n",
    "waterway = geopandas.read_file(f\"../../data/generated/waterway_{river_name}.gpkg\")\n",
    "corridor = geopandas.read_file(f\"../../data/generated/corridor_{river_name}.gpkg\")\n"
   ]
  },
  {
   "cell_type": "markdown",
   "metadata": {},
   "source": [
    "Extract the relevant geometries:"
   ]
  },
  {
   "cell_type": "code",
   "execution_count": null,
   "metadata": {},
   "outputs": [],
   "source": [
    "waterway_geometry = waterway.iloc[0].geometry\n",
    "corridor_geometry = corridor.iloc[0].geometry\n",
    "edge1_geometry = corridor.iloc[1].geometry\n",
    "edge2_geometry = corridor.iloc[2].geometry"
   ]
  },
  {
   "cell_type": "markdown",
   "metadata": {},
   "source": [
    "## Continuity analysis (modified `momepy`)"
   ]
  },
  {
   "cell_type": "code",
   "execution_count": null,
   "metadata": {},
   "outputs": [],
   "source": [
    "def _cross_check_links(unique, angle_pairs, angle_threshold):\n",
    "    \"\"\"\n",
    "    Modified version of the momepy function that identifies \"best\"\n",
    "    links between segments, dropping the reciprocity requirement.\n",
    "    \"\"\"\n",
    "    for edge in range(0, len(unique)):\n",
    "        best_p1 = unique[edge][4][0]\n",
    "        best_p2 = unique[edge][5][0]\n",
    "\n",
    "        if (\n",
    "            isinstance(best_p1, int)\n",
    "            # and edge in [unique[best_p1][4][0], unique[best_p1][5][0]]\n",
    "            and angle_pairs[\"%d_%d\" % (edge, best_p1)] > angle_threshold\n",
    "        ):\n",
    "            unique[edge][6] = best_p1\n",
    "        else:\n",
    "            unique[edge][6] = \"line_break\"\n",
    "\n",
    "        if (\n",
    "            isinstance(best_p2, int)\n",
    "            # and edge in [unique[best_p2][4][0], unique[best_p2][5][0]]\n",
    "            and angle_pairs[\"%d_%d\" % (edge, best_p2)] > angle_threshold\n",
    "        ):\n",
    "            unique[edge][7] = best_p2\n",
    "        else:\n",
    "            unique[edge][7] = \"line_break\""
   ]
  },
  {
   "cell_type": "code",
   "execution_count": null,
   "metadata": {},
   "outputs": [],
   "source": [
    "def _merge_lines_loop(n, unique_dict, bound_geometry):\n",
    "    \"\"\"\n",
    "    Modified version of the momepy function that merges the line\n",
    "    segments:\n",
    "    - crossing a provided boundary geometry is added as stopping condition;\n",
    "    - when assigning the best continuation segment on a vertex, we force the\n",
    "      following iteration to continue on the other vertex of the segment.\n",
    "      This is probably needed as a consequence of having dropped the reciprocity\n",
    "      requirement in assigning the best links.\n",
    "    \"\"\"\n",
    "    outlist = set()\n",
    "    current_edge1 = n\n",
    "    vertex = None\n",
    "\n",
    "    outlist.add(current_edge1)\n",
    "    while True:\n",
    "        p1, p2 = [tuple(i) for i in unique_dict[current_edge1][0]]\n",
    "        edge = shapely.LineString([p1, p2])\n",
    "        if not bound_geometry.contains(edge):\n",
    "            break\n",
    "        if (\n",
    "            isinstance(unique_dict[current_edge1][6], int)\n",
    "            and unique_dict[current_edge1][6] not in outlist\n",
    "            and ((vertex is None) or (vertex == p2))\n",
    "        ):\n",
    "            current_edge1 = unique_dict[current_edge1][6]\n",
    "            outlist.add(current_edge1)\n",
    "            vertex = tuple(p1)\n",
    "        elif (\n",
    "            isinstance(unique_dict[current_edge1][7], int)\n",
    "            and unique_dict[current_edge1][7] not in outlist\n",
    "            and ((vertex is None) or (vertex == p1))\n",
    "        ):\n",
    "            current_edge1 = unique_dict[current_edge1][7]\n",
    "            outlist.add(current_edge1)\n",
    "            vertex = tuple(p2)\n",
    "        else:\n",
    "            break\n",
    "\n",
    "    current_edge1 = n\n",
    "    vertex = None\n",
    "    while True:\n",
    "        p1, p2 = [tuple(i) for i in unique_dict[current_edge1][0]]\n",
    "        edge = shapely.LineString([p1, p2])\n",
    "        if not bound_geometry.contains(edge):\n",
    "            break\n",
    "        if (\n",
    "            isinstance(unique_dict[current_edge1][7], int)\n",
    "            and unique_dict[current_edge1][7] not in outlist\n",
    "            and ((vertex is None) or (vertex == p1))\n",
    "        ):\n",
    "            current_edge1 = unique_dict[current_edge1][7]\n",
    "            outlist.add(current_edge1)\n",
    "            vertex = tuple(p2)\n",
    "        elif (\n",
    "            isinstance(unique_dict[current_edge1][6], int)\n",
    "            and unique_dict[current_edge1][6] not in outlist\n",
    "            and ((vertex is None) or (vertex == p2))\n",
    "        ):\n",
    "            current_edge1 = unique_dict[current_edge1][6]\n",
    "            outlist.add(current_edge1)\n",
    "            vertex = tuple(p1)\n",
    "        else:\n",
    "            break\n",
    "\n",
    "    outlist = list(outlist)\n",
    "    outlist.sort()\n",
    "    return outlist\n"
   ]
  },
  {
   "cell_type": "code",
   "execution_count": null,
   "metadata": {},
   "outputs": [],
   "source": [
    "edges_simplified = momepy.roundabout_simplification(edges)"
   ]
  },
  {
   "cell_type": "code",
   "execution_count": null,
   "metadata": {},
   "outputs": [],
   "source": [
    "# show effect of roundabout simplification\n",
    "m = edges.explore(color=\"red\")\n",
    "m = edges_simplified.explore(m=m, color=\"black\")\n",
    "m"
   ]
  },
  {
   "cell_type": "code",
   "execution_count": null,
   "metadata": {},
   "outputs": [],
   "source": [
    "# make continuity analysis using COINS\n",
    "ANGLE_THRESHOLD = 120.\n",
    "coins = momepy.coins.COINS(edges, angle_threshold=ANGLE_THRESHOLD, flow_mode=True)\n",
    "# get GDF of all line segments\n",
    "premerge = coins._create_gdf_premerge()\n",
    "# find the segments intersecting the waterway\n",
    "mask = premerge.intersects(waterway_geometry)\n",
    "crossings = premerge[mask]"
   ]
  },
  {
   "cell_type": "code",
   "execution_count": null,
   "metadata": {},
   "outputs": [],
   "source": [
    "# find the crossing points as intersections between the waterway and the street network\n",
    "crossing_points = crossings.intersection(waterway_geometry) # this should now be \"point\" geometries"
   ]
  },
  {
   "cell_type": "code",
   "execution_count": null,
   "metadata": {},
   "outputs": [],
   "source": [
    "# group the crossing points in clusters\n",
    "xy = np.column_stack([crossing_points.x, crossing_points.y])\n",
    "dbscan = sklearn.cluster.DBSCAN(eps=100, min_samples=1)\n",
    "dbscan.fit(xy)"
   ]
  },
  {
   "cell_type": "code",
   "execution_count": null,
   "metadata": {},
   "outputs": [],
   "source": [
    "# modified assignment of best continuation edges (with threshold)\n",
    "_cross_check_links(coins.unique, coins.angle_pairs, ANGLE_THRESHOLD)"
   ]
  },
  {
   "cell_type": "code",
   "execution_count": null,
   "metadata": {},
   "outputs": [],
   "source": [
    "# grow strokes fromm the crossings\n",
    "geoms = []\n",
    "for idx in crossings.index:\n",
    "    indices = _merge_lines_loop(idx, coins.unique, corridor_geometry)\n",
    "    geoms.append(premerge.loc[indices].unary_union)\n",
    "strokes = geopandas.GeoDataFrame(geometry=geoms, crs=crossings.crs)\n",
    "strokes[\"cluster\"] = dbscan.labels_"
   ]
  },
  {
   "cell_type": "code",
   "execution_count": null,
   "metadata": {},
   "outputs": [],
   "source": [
    "# find the ones that intersect both edges of the corridor\n",
    "mask = strokes.intersects(edge1_geometry) & strokes.intersects(edge2_geometry)\n",
    "filtered = strokes[mask]"
   ]
  },
  {
   "cell_type": "code",
   "execution_count": null,
   "metadata": {},
   "outputs": [],
   "source": [
    "# for each cluster, select the shortest\n",
    "filtered = filtered.assign(length=filtered.length)\n",
    "idx = filtered.groupby(\"cluster\").agg({\"length\": \"idxmin\"})\n",
    "shortest = filtered.loc[idx[\"length\"].values]"
   ]
  },
  {
   "cell_type": "code",
   "execution_count": null,
   "metadata": {},
   "outputs": [],
   "source": [
    "m = corridor.explore()\n",
    "m = shortest.explore(m=m, color=\"red\")\n",
    "m = crossings.explore(m=m, color=\"green\")\n",
    "m"
   ]
  }
 ],
 "metadata": {
  "kernelspec": {
   "display_name": "venv",
   "language": "python",
   "name": "python3"
  },
  "language_info": {
   "codemirror_mode": {
    "name": "ipython",
    "version": 3
   },
   "file_extension": ".py",
   "mimetype": "text/x-python",
   "name": "python",
   "nbconvert_exporter": "python",
   "pygments_lexer": "ipython3",
   "version": "3.10.14"
  }
 },
 "nbformat": 4,
 "nbformat_minor": 2
}
